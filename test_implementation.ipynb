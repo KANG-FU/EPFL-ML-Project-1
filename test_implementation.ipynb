{
 "cells": [
  {
   "cell_type": "code",
   "execution_count": 15,
   "metadata": {},
   "outputs": [
    {
     "name": "stdout",
     "output_type": "stream",
     "text": [
      "The autoreload extension is already loaded. To reload it, use:\n",
      "  %reload_ext autoreload\n"
     ]
    }
   ],
   "source": [
    "# Useful starting lines\n",
    "%matplotlib inline\n",
    "import numpy as np\n",
    "import matplotlib.pyplot as plt\n",
    "%load_ext autoreload\n",
    "%autoreload 2"
   ]
  },
  {
   "cell_type": "markdown",
   "metadata": {},
   "source": [
    "# Load Data and Preprocess data\n",
    "Load the data of train and test"
   ]
  },
  {
   "cell_type": "code",
   "execution_count": 16,
   "metadata": {},
   "outputs": [],
   "source": [
    "from proj1_helpers import *\n",
    "DATA_TRAIN_PATH = 'train.csv' \n",
    "y, tX, ids = load_csv_data(DATA_TRAIN_PATH)\n",
    "DATA_TEST_PATH = 'test.csv' \n",
    "y_test, tx_test, ids_te = load_csv_data(DATA_TEST_PATH)"
   ]
  },
  {
   "cell_type": "markdown",
   "metadata": {},
   "source": [
    "## Replace -999 with median and standardise the feature matrix"
   ]
  },
  {
   "cell_type": "code",
   "execution_count": 25,
   "metadata": {},
   "outputs": [
    {
     "data": {
      "text/plain": [
       "array([[-0.15098524,  0.85695592, -1.41340956, ..., -0.00201861,\n",
       "        -0.00375443, -0.74405712],\n",
       "       [-0.26823392,  0.51511285,  0.16866785, ..., -0.00201861,\n",
       "        -0.00375443, -0.26091718],\n",
       "       [-0.05072359,  0.19686173,  0.37643086, ..., -0.00201861,\n",
       "        -0.00375443, -0.74405712],\n",
       "       ...,\n",
       "       [-0.22817125, -1.1138051 , -0.39465676, ..., -0.00201861,\n",
       "        -0.00375443, -0.74405712],\n",
       "       [-0.45312533, -0.82649192, -0.35035672, ..., -0.00201861,\n",
       "        -0.00375443, -0.4306331 ],\n",
       "       [-0.53592278,  0.87164791, -0.08655773, ..., -0.00201861,\n",
       "        -0.00375443, -0.74405712]])"
      ]
     },
     "execution_count": 25,
     "metadata": {},
     "output_type": "execute_result"
    }
   ],
   "source": [
    "from data_preprocess import *\n",
    "tX=replace_999_by_median(tX)\n",
    "tx_test=replace_999_by_median(tx_test)\n",
    "standardized_tx_train, mean_tx_train, std_tx_train = standardize(tX)\n",
    "standardized_tx_test, mean_tx_test, std_tx_test = standardize(tx_test)\n",
    "standardized_tx_test"
   ]
  },
  {
   "cell_type": "markdown",
   "metadata": {},
   "source": [
    "## Split the data into train set and test set. \n",
    "Train set is used to get optimal weights and the test set will test the model accuracy.\n",
    "Here the ratio is set to 0.8, which means 80% of data is used to train the model and the remaining data will be used as test set"
   ]
  },
  {
   "cell_type": "code",
   "execution_count": 18,
   "metadata": {},
   "outputs": [],
   "source": [
    "from cross_validation import *\n",
    "from implementations import *\n",
    "x_training, x_test,y_training, y_test = split_data(standardized_tx_train, y, 0.8, seed=5)"
   ]
  },
  {
   "cell_type": "markdown",
   "metadata": {},
   "source": [
    "# Least Square"
   ]
  },
  {
   "cell_type": "code",
   "execution_count": 13,
   "metadata": {},
   "outputs": [
    {
     "name": "stdout",
     "output_type": "stream",
     "text": [
      "\\Testing least_squares...\n",
      "ERROR! Session/line number was not unique in database. History logging moved to new session 54\n",
      "The train accuracy of least square model is 0.805025\n",
      "The test accuracy of least square model is 0.80284\n"
     ]
    }
   ],
   "source": [
    "from implementations import *\n",
    "def test_least_squares(y_train, tx_train,y_test,x_test):\n",
    "    print('\\Testing least_squares...')\n",
    "    tx_train = build_poly(tx_train, 11)\n",
    "    x_test = build_poly(x_test, 11)\n",
    "    w, loss = least_squares(y_train, tx_train)\n",
    "    accu_train=accuracy(y_train, tx_train, w)\n",
    "    accu_test=accuracy(y_test, x_test, w)\n",
    "    print('The train accuracy of least square model is {accuracy}'.format(accuracy=accu_train))\n",
    "    print('The test accuracy of least square model is {accuracy}'.format(accuracy=accu_test))\n",
    "test_least_squares(y_training, x_training,y_test, x_test)"
   ]
  },
  {
   "cell_type": "markdown",
   "metadata": {},
   "source": [
    "## Cross Validation"
   ]
  },
  {
   "cell_type": "code",
   "execution_count": null,
   "metadata": {},
   "outputs": [],
   "source": [
    "from plots import *\n",
    "def cv_least_square(y_train, tx_train,y_test, x_test, degree):\n",
    "    degree = range(5,14)\n",
    "    tx_train = build_poly(tx_train, degree)\n",
    "    x_test = build_poly(x_test, degree)\n",
    "    accu_tr = []\n",
    "    accu_te = []\n",
    "    for ind, lambda_ in enumerate(lambdas):\n",
    "        w, loss=ridge_regression(y_train, tx_train, lambda_)\n",
    "        train_acc= accuracy(y_train, tx_train, w)\n",
    "        accu_tr.append(train_acc)\n",
    "        test_acc= accuracy(y_test, x_test, w)\n",
    "        accu_te.append(test_acc)\n",
    "    cross_validation_visualization(lambdas, accu_tr, accu_te)\n",
    "    \n",
    "cross_validation_demo(y_training, x_training,y_test, x_test,12)"
   ]
  },
  {
   "cell_type": "markdown",
   "metadata": {},
   "source": [
    "# Least Square using Gradient Desecent\n"
   ]
  },
  {
   "cell_type": "code",
   "execution_count": 19,
   "metadata": {},
   "outputs": [
    {
     "name": "stdout",
     "output_type": "stream",
     "text": [
      "\\Testing least_squares_GD...\n",
      "0.684925\n",
      "0.68952\n",
      "0.696905\n",
      "0.70199\n",
      "0.70484\n",
      "The train accuracy of least square using gradient descent model is 0.706845\n",
      "The test accuracy of least square using gradient descent model is 0.7042999999999999\n"
     ]
    }
   ],
   "source": [
    "def test_least_squares_GD(y_train, tx_train,y_test, x_test,max_iters, gamma):\n",
    "    print('\\Testing least_squares_GD...')\n",
    "#     tx_train = build_poly(tx_train, 4)\n",
    "#     x_test = build_poly(x_test, 4)\n",
    "    initial_w=np.zeros(tx_train.shape[1])\n",
    "    w, loss = least_square_GD(y_train, tx_train, initial_w, max_iters, gamma)\n",
    "    accu_train=accuracy(y_train, tx_train, w)\n",
    "    accu_test=accuracy(y_test, x_test, w)\n",
    "    print('The train accuracy of least square using gradient descent model is {accuracy}'.format(accuracy=accu_train))\n",
    "    print('The test accuracy of least square using gradient descent model is {accuracy}'.format(accuracy=accu_test))\n",
    "test_least_squares_GD(y_training, x_training,y_test, x_test, 500, 0.001 )"
   ]
  },
  {
   "cell_type": "markdown",
   "metadata": {},
   "source": [
    "# Least Square using Stochastic Gradient Desecent"
   ]
  },
  {
   "cell_type": "code",
   "execution_count": 42,
   "metadata": {},
   "outputs": [
    {
     "name": "stdout",
     "output_type": "stream",
     "text": [
      "\\Testing least_squares_SGD...\n",
      "0.5447949999999999\n",
      "0.699445\n",
      "0.6992700000000001\n",
      "0.69566\n",
      "0.710245\n",
      "0.71095\n",
      "The train accuracy of least square using stochastic gradient descent model is 0.71225\n",
      "The test accuracy of least square using stochastic gradient descent model model is 0.71338\n"
     ]
    }
   ],
   "source": [
    "def test_least_squares_SGD(y_train, tx_train,y_test, x_test,max_iters, gamma):\n",
    "    print('\\Testing least_squares_SGD...')\n",
    "    batch_size = 1 \n",
    "    initial_w=np.zeros(tx_train.shape[1])\n",
    "    w, loss = least_square_SGD(y_train, tx_train, initial_w, batch_size, max_iters, gamma)\n",
    "    accu_train=accuracy(y_train, tx_train, w)\n",
    "    accu_test=accuracy(y_test, x_test, w)\n",
    "    print('The train accuracy of least square using stochastic gradient descent model is {accuracy}'.format(accuracy=accu_train))\n",
    "    print('The test accuracy of least square using stochastic gradient descent model is {accuracy}'.format(accuracy=accu_test))\n",
    "test_least_squares_SGD(y_training, x_training,y_test, x_test, 3000, 0.001 )"
   ]
  },
  {
   "cell_type": "markdown",
   "metadata": {},
   "source": [
    "# Ridge Regression with Feature Augumentation\n",
    "Here we add a polynomial basis to the original data"
   ]
  },
  {
   "cell_type": "code",
   "execution_count": 19,
   "metadata": {},
   "outputs": [
    {
     "name": "stdout",
     "output_type": "stream",
     "text": [
      "The train accuracy of ridge regression model is 0.82161\n",
      "The test accuracy of ridge regression model is 0.81862\n"
     ]
    }
   ],
   "source": [
    "def test_ridge_regression_with_feature_augmentation(y_train, tx_train,y_test, x_test,degree):\n",
    "    tx_train = build_poly(tx_train, degree)\n",
    "    x_test = build_poly(x_test, degree)\n",
    "#    for i in np.arange(0.00001,0.0001,0.00001):\n",
    "    w, loss=ridge_regression(y_train, tx_train, 0.00007)\n",
    "    accu_train=accuracy(y_train, tx_train, w)\n",
    "    accu_test=accuracy(y_test, x_test, w)\n",
    "#        print(accu_train)\n",
    "    print('The train accuracy of ridge regression model is {accuracy}'.format(accuracy=accu_train))\n",
    "    print('The test accuracy of ridge regression model is {accuracy}'.format(accuracy=accu_test))\n",
    "    return w\n",
    "w=test_ridge_regression_with_feature_augmentation(y_training, x_training,y_test, x_test,15)"
   ]
  },
  {
   "cell_type": "code",
   "execution_count": 28,
   "metadata": {},
   "outputs": [],
   "source": [
    "standardized_tx_test=build_poly(tx_test,15)\n",
    "#standardized_tx_test"
   ]
  },
  {
   "cell_type": "code",
   "execution_count": 29,
   "metadata": {},
   "outputs": [],
   "source": [
    "OUTPUT_PATH = 'RR_156_check.csv' # TODO: fill in desired name of output file for submission\n",
    "y_pred = predict_labels(w, standardized_tx_test)\n",
    "create_csv_submission(ids_te, y_pred, OUTPUT_PATH)"
   ]
  },
  {
   "cell_type": "markdown",
   "metadata": {},
   "source": [
    "# Logistic Regression"
   ]
  },
  {
   "cell_type": "code",
   "execution_count": 39,
   "metadata": {},
   "outputs": [
    {
     "name": "stdout",
     "output_type": "stream",
     "text": [
      "\\Testing least_squares_SGD...\n",
      "0.68447\n"
     ]
    },
    {
     "name": "stderr",
     "output_type": "stream",
     "text": [
      "C:\\Users\\fukan\\ML\\proj1\\implementations.py:152: RuntimeWarning: overflow encountered in exp\n",
      "  return np.sum(np.log(1. + np.exp(tx_dot_w)) - y * tx_dot_w)\n"
     ]
    },
    {
     "name": "stdout",
     "output_type": "stream",
     "text": [
      "0.72526\n",
      "0.72534\n",
      "0.725365\n",
      "0.725355\n",
      "The train accuracy of least square using gradient descent model is 0.725345\n",
      "The test accuracy of least square using gradient descent model model is 0.7264999999999999\n"
     ]
    }
   ],
   "source": [
    "def test_logistic_regression(y_train, tx_train,y_test, x_test,max_iters, gamma):\n",
    "    print('\\Testing logistic_regression...')\n",
    "    initial_w=np.zeros(tx_train.shape[1])\n",
    "    w, loss = logistic_regression(y_train, tx_train, initial_w, max_iters, gamma)\n",
    "    accu_train=accuracy(y_train, tx_train, w)\n",
    "    accu_test=accuracy(y_test, x_test, w)\n",
    "    print('The train accuracy of logistic_regression model is {accuracy}'.format(accuracy=accu_train))\n",
    "    print('The test accuracy of logistic_regression model is {accuracy}'.format(accuracy=accu_test))\n",
    "test_logistic_regression(y_training, x_training,y_test, x_test, 1000, 0.0001)"
   ]
  },
  {
   "cell_type": "markdown",
   "metadata": {},
   "source": [
    "# Regularized Logistic Regression"
   ]
  },
  {
   "cell_type": "code",
   "execution_count": 41,
   "metadata": {},
   "outputs": [
    {
     "name": "stdout",
     "output_type": "stream",
     "text": [
      "\\Testing least_squares_SGD...\n",
      "0.68447\n",
      "0.7251000000000001\n",
      "0.725265\n",
      "0.72533\n",
      "0.72533\n",
      "0.72533\n",
      "0.72536\n",
      "0.7253499999999999\n",
      "0.725365\n",
      "0.7253700000000001\n",
      "The train accuracy of least square using gradient descent model is 0.7253700000000001\n",
      "The test accuracy of least square using gradient descent model model is 0.72646\n"
     ]
    }
   ],
   "source": [
    "def test_reg_logistic_regression(y_train, tx_train,y_test, x_test,lambda_,max_iters, gamma):\n",
    "    print('\\Testing reg_least_squares_SGD...')\n",
    "    initial_w=np.zeros(tx_train.shape[1])\n",
    "    w, loss = reg_logistic_regression(y_train, tx_train, lambda_, initial_w, max_iters, gamma)\n",
    "    accu_train=accuracy(y_train, tx_train, w)\n",
    "    accu_test=accuracy(y_test, x_test, w)\n",
    "    print('The train accuracy of regularized logistic_regression model is {accuracy}'.format(accuracy=accu_train))\n",
    "    print('The test accuracy of regularized logistic_regression model is {accuracy}'.format(accuracy=accu_test))\n",
    "test_reg_logistic_regression(y_training, x_training,y_test, x_test, 0.005, 1000, 0.001)"
   ]
  },
  {
   "cell_type": "markdown",
   "metadata": {},
   "source": [
    "# Cross valiadition for Selection of Best Degree of Ridge Regression with Feature Augmetation\n",
    "Here we use a 10-fold cross validation.\n",
    "we define the selection range of degree to be integer from 8 to 14. The lambda will be 10 numbers selected uniformally from 0.00001 to 0"
   ]
  },
  {
   "cell_type": "code",
   "execution_count": 30,
   "metadata": {},
   "outputs": [
    {
     "name": "stdout",
     "output_type": "stream",
     "text": [
      "test\n",
      "test\n",
      "test\n",
      "test\n",
      "test\n",
      "test\n",
      "test\n",
      "test\n",
      "test\n",
      "test\n",
      "test\n",
      "test\n",
      "test\n",
      "test\n",
      "test\n",
      "test\n"
     ]
    },
    {
     "data": {
      "text/plain": [
       "12"
      ]
     },
     "execution_count": 30,
     "metadata": {},
     "output_type": "execute_result"
    }
   ],
   "source": [
    "best_degree_selection(y,standardized_tx_train,np.arange(8,16), 10, np.logspace(-5, 0, 10))"
   ]
  },
  {
   "cell_type": "markdown",
   "metadata": {},
   "source": [
    "Once the degree has been defined, we can use plot to show the best lambda"
   ]
  },
  {
   "cell_type": "code",
   "execution_count": 33,
   "metadata": {},
   "outputs": [
    {
     "data": {
      "image/png": "[encoded data removed]",
      "text/plain": [
       "<Figure size 432x288 with 1 Axes>"
      ]
     },
     "metadata": {
      "needs_background": "light"
     },
     "output_type": "display_data"
    }
   ],
   "source": [
    "from cross_validation import *\n",
    "def cross_validation_demo(y_train, tx_train,y_test, x_test, degree):\n",
    "    lambdas = np.logspace(-5, -1, 30)\n",
    "    tx_train = build_poly(tx_train, degree)\n",
    "    x_test = build_poly(x_test, degree)\n",
    "    accu_tr = []\n",
    "    accu_te = []\n",
    "    for ind, lambda_ in enumerate(lambdas):\n",
    "        w, loss=ridge_regression(y_train, tx_train, lambda_)\n",
    "        train_acc= accuracy(y_train, tx_train, w)\n",
    "        accu_tr.append(train_acc)\n",
    "        test_acc= accuracy(y_test, x_test, w)\n",
    "        accu_te.append(test_acc)\n",
    "    cross_validation_visualization(lambdas, accu_tr, accu_te)\n",
    "    \n",
    "cross_validation_demo(y_training, x_training,y_test, x_test,12)"
   ]
  },
  {
   "cell_type": "code",
   "execution_count": null,
   "metadata": {},
   "outputs": [],
   "source": []
  },
  {
   "cell_type": "code",
   "execution_count": null,
   "metadata": {},
   "outputs": [],
   "source": []
  }
 ],
 "metadata": {
  "kernelspec": {
   "display_name": "Python 3",
   "language": "python",
   "name": "python3"
  },
  "language_info": {
   "codemirror_mode": {
    "name": "ipython",
    "version": 3
   },
   "file_extension": ".py",
   "mimetype": "text/x-python",
   "name": "python",
   "nbconvert_exporter": "python",
   "pygments_lexer": "ipython3",
   "version": "3.8.3"
  }
 },
 "nbformat": 4,
 "nbformat_minor": 4
}
